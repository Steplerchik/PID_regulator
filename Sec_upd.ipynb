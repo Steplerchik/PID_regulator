{
 "cells": [
  {
   "cell_type": "code",
   "execution_count": null,
   "metadata": {},
   "outputs": [],
   "source": [
    "#Inputs\n",
    "t1=6; t2=1.2; k=4; tet=0.25\n",
    "\n",
    "import numpy as np\n",
    "import matplotlib.pyplot as plt\n",
    "import matplotlib as mpl\n",
    "from mpmath import *\n",
    "\n",
    "def  run_invertlaplace(tt, fp, tet):\n",
    "    y=np.array([])\n",
    "    for i in np.arange(0, len(tt)):\n",
    "        if tt[i] <= tet:\n",
    "            y = np.append(y,0)\n",
    "        else:\n",
    "            y = np.append(y,np.float64(invertlaplace(fp, tt[i], method='talbot')))\n",
    "    return y \n",
    "\n",
    "tmax=20\n",
    "tt = np.linspace(0, tmax, num=(100 * tmax + 1))\n",
    "fp = lambda s: (k*exp(-tet*s)/((t1*s+1)*(t2*s+1)))*(1/s)\n",
    "print(fp(1))\n",
    "\n",
    "def ft(t):\n",
    "    f=[]\n",
    "    for i in np.arange(0, len(t)):\n",
    "        f.append(1)\n",
    "    return f\n",
    "\n",
    "y = run_invertlaplace(tt, fp, tet)\n",
    "plt.plot(tt, y, 'r', tt, ft(tt),'b')\n",
    "plt.grid(True)\n",
    "plt.show()\n",
    "\n",
    "print(y)\n",
    "\n",
    "np.save('y_dataset.npy',y)"
   ]
  },
  {
   "cell_type": "code",
   "execution_count": 2,
   "metadata": {},
   "outputs": [
    {
     "data": {
      "image/png": "[encoded data removed]",
      "text/plain": [
       "<Figure size 432x288 with 1 Axes>"
      ]
     },
     "metadata": {},
     "output_type": "display_data"
    },
    {
     "name": "stdout",
     "output_type": "stream",
     "text": [
      "[3.99714542 0.25494987 5.99243734 1.2009093 ]\n"
     ]
    }
   ],
   "source": [
    "import numpy as np\n",
    "import matplotlib.pyplot as plt\n",
    "from scipy import signal\n",
    "from mpmath import mp\n",
    "\n",
    "tmax=20\n",
    "s = np.linspace(1, 20, num=100)\n",
    "t = np.linspace(0, tmax, num=(100 * tmax + 1))\n",
    "\n",
    "xt = np.ones((len(t)))\n",
    "xs = np.sum(xt[:, np.newaxis] * np.exp(-s * t[:, np.newaxis]) * 0.01, axis = 0)\n",
    "\n",
    "yt = np.array(np.load('y_dataset.npy'))\n",
    "ys = np.sum(yt[:, np.newaxis] * np.exp(-s* t[:, np.newaxis]) * 0.01, axis = 0)\n",
    "\n",
    "hs = ys / xs\n",
    "\n",
    "def gen_data(s_, k, tet, t1, t2):\n",
    "    y = k * np.exp(-tet * s_) / ((t1 * s_ + 1) * (t2 * s_ +1))\n",
    "    return y\n",
    "\n",
    "def fun(x, s_, hs_):\n",
    "    return x[0] * np.exp(-x[1] * s_) / ((x[2] * s_ + 1) * (x[3] * s_ +1)) - hs_\n",
    "\n",
    "x0 = np.ones(4)\n",
    "\n",
    "from scipy.optimize import least_squares\n",
    "\n",
    "res_lsq = least_squares(fun, x0, args=(s, hs))\n",
    "\n",
    "s_test = np.linspace(1, 20, num=200)\n",
    "hs_lsq = gen_data(s_test, *res_lsq.x)\n",
    "\n",
    "hs_true = gen_data(s_test, 4, 0.25, 6, 1.2)\n",
    "\n",
    "plt.plot(s, hs, 'o')\n",
    "plt.plot(s_test, hs_lsq, 'k', linewidth=2, label='lsq')\n",
    "plt.plot(s_test, hs_true, 'r', linewidth=2, label='true')\n",
    "plt.grid(True)\n",
    "plt.show()\n",
    "\n",
    "coef = res_lsq.x\n",
    "print(coef)"
   ]
  },
  {
   "cell_type": "code",
   "execution_count": null,
   "metadata": {},
   "outputs": [],
   "source": []
  }
 ],
 "metadata": {
  "kernelspec": {
   "display_name": "Python 3",
   "language": "python",
   "name": "python3"
  },
  "language_info": {
   "codemirror_mode": {
    "name": "ipython",
    "version": 3
   },
   "file_extension": ".py",
   "mimetype": "text/x-python",
   "name": "python",
   "nbconvert_exporter": "python",
   "pygments_lexer": "ipython3",
   "version": "3.6.5"
  }
 },
 "nbformat": 4,
 "nbformat_minor": 2
}
